{
 "cells": [
  {
   "cell_type": "code",
   "execution_count": 2,
   "id": "c86d85bd",
   "metadata": {},
   "outputs": [],
   "source": [
    "class Hash_table():\n",
    "  def __init__(self):\n",
    "    self.capacity = 10\n",
    "    self.aval = [[]for i in range (self.capacity)]\n",
    "    self.akey = [[] for i in range (self.capacity)]\n",
    "\n",
    "\n",
    "  def hash_div(self,key):\n",
    "    sum = 0\n",
    "    for i in key:\n",
    "      sum += ord(i)\n",
    "    return sum % self.capacity"
   ]
  },
  {
   "cell_type": "code",
   "execution_count": null,
   "id": "956de4ae",
   "metadata": {},
   "outputs": [],
   "source": [
    "def add(self, key , value):\n",
    "    i = self.hash_div(key)\n",
    "    if self.akey[i] == []:\n",
    "      self.aval[i] = value\n",
    "      self.akey[i] = key\n",
    "    else:\n",
    "      c = self.capacity\n",
    "      for j in range(c):\n",
    "        i = (i+1)%c\n",
    "        if self.akey[i] == []:\n",
    "          self.aval[i] = value\n",
    "          self.akey[i] = key\n",
    "\n",
    "          return\n",
    "      print(\"Hash table full\")"
   ]
  },
  {
   "cell_type": "code",
   "execution_count": null,
   "id": "5d193d2d",
   "metadata": {},
   "outputs": [],
   "source": [
    "def getvalue(self , key):\n",
    "    i = self.hash_div(key)\n",
    "    if self.akey[i] == key:\n",
    "      return(self.aval[i])\n",
    "    else:\n",
    "      c = self.capacity\n",
    "      for j in range (c):\n",
    "        i = (i+1)%c\n",
    "        if self.akey[i] == key:\n",
    "            return(self.aval)\n",
    "    print(\"value not found\")\n",
    "    return([])"
   ]
  },
  {
   "cell_type": "code",
   "execution_count": null,
   "id": "a81591e6",
   "metadata": {},
   "outputs": [],
   "source": [
    "def delete(self , key):\n",
    "      i = self.hash_div(key)\n",
    "      if self.akey[i] == key:\n",
    "        self.aval[i] = []\n",
    "        self.akey[i] = []\n",
    "      else:\n",
    "       c = self.capacity\n",
    "       for j in range(c):\n",
    "         i = (i+1)%c\n",
    "         if self.akey[i] == key:\n",
    "           self.aval[i] = []\n",
    "           self.akey[i] = []\n",
    "\n",
    "           return\n",
    "      print(\"Value not in hash table\")"
   ]
  },
  {
   "cell_type": "code",
   "execution_count": 3,
   "id": "8ddb47cb",
   "metadata": {},
   "outputs": [
    {
     "name": "stdout",
     "output_type": "stream",
     "text": [
      "['Kaustubh', [], [], [], [], [], 'mot', 'Nikhil', 'Ramesh', 'kunal']\n",
      "[12, [], [], [], [], [], 3, 4, 2, 1]\n",
      "value not found\n",
      "[]\n",
      "--------------------\n",
      "value not found\n",
      "[]\n",
      "Value not in hash table\n",
      "['Kaustubh', [], [], [], [], [], 'mot', 'Nikhil', 'Ramesh', 'kunal']\n",
      "[12, [], [], [], [], [], 3, 4, 2, 1]\n"
     ]
    }
   ],
   "source": [
    "t = Hash_table()\n",
    "t.add(\"kunal\", 1)\n",
    "t.add(\"Ramesh\", 2)\n",
    "t.add(\"mot\", 3)\n",
    "t.add(\"Nikhil\", 4)\n",
    "t.add(\"Kaustubh\", 12)\n",
    "print(t.akey)\n",
    "print(t.aval)\n",
    "print(t.getvalue(\"Tom\"))\n",
    "print('--------------------')\n",
    "print(t.getvalue(\"mTo\"))\n",
    "t.delete(\"mTo\")\n",
    "print(t.akey)\n",
    "print(t.aval)\n"
   ]
  },
  {
   "cell_type": "code",
   "execution_count": null,
   "id": "0652e80b",
   "metadata": {},
   "outputs": [],
   "source": []
  }
 ],
 "metadata": {
  "kernelspec": {
   "display_name": "Python 3 (ipykernel)",
   "language": "python",
   "name": "python3"
  },
  "language_info": {
   "codemirror_mode": {
    "name": "ipython",
    "version": 3
   },
   "file_extension": ".py",
   "mimetype": "text/x-python",
   "name": "python",
   "nbconvert_exporter": "python",
   "pygments_lexer": "ipython3",
   "version": "3.10.9"
  }
 },
 "nbformat": 4,
 "nbformat_minor": 5
}
