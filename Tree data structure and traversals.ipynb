{
 "cells": [
  {
   "cell_type": "code",
   "execution_count": 2,
   "id": "864d13ad",
   "metadata": {},
   "outputs": [
    {
     "name": "stdout",
     "output_type": "stream",
     "text": [
      "['a', 'b', 'c', '*', '-', 'd', 'e', '/', '-', 'f', '+']\n"
     ]
    }
   ],
   "source": [
    "class Node:\n",
    "    def __init__(self, value):\n",
    "        self.value = value\n",
    "        self.left = None\n",
    "        self.right = None\n",
    "\n",
    "def construct_tree(expression):\n",
    "    stack = []\n",
    "    for token in reversed(expression):\n",
    "        if token.isalpha() or token.isdigit():\n",
    "            node = Node(token)\n",
    "            stack.append(node)\n",
    "        else:\n",
    "            node = Node(token)\n",
    "            node.left = stack.pop()\n",
    "            node.right = stack.pop()\n",
    "            stack.append(node)\n",
    "    return stack.pop()\n",
    "\n",
    "def postorder_traversal_iterative(root):\n",
    "    stack = []\n",
    "    last_visited = None\n",
    "    result = []\n",
    "    node = root\n",
    "    while node or stack:\n",
    "        if node:\n",
    "            stack.append(node)\n",
    "            node = node.left\n",
    "        else:\n",
    "            peek_node = stack[-1]\n",
    "            if peek_node.right and last_visited != peek_node.right:\n",
    "                node = peek_node.right\n",
    "            else:\n",
    "                result.append(peek_node.value)\n",
    "                last_visited = stack.pop()\n",
    "                node = None\n",
    "    return result\n",
    "\n",
    "def delete_tree(root):\n",
    "    if root:\n",
    "        delete_tree(root.left)\n",
    "        delete_tree(root.right)\n",
    "        del root\n",
    "\n",
    "expression = \"+--a*bc/def\"\n",
    "root = construct_tree(expression)\n",
    "print(postorder_traversal_iterative(root)) # prints \"a cb d e f /*-+\"\n",
    "delete_tree(root)\n"
   ]
  },
  {
   "cell_type": "code",
   "execution_count": null,
   "id": "7479199b",
   "metadata": {},
   "outputs": [],
   "source": []
  }
 ],
 "metadata": {
  "kernelspec": {
   "display_name": "Python 3 (ipykernel)",
   "language": "python",
   "name": "python3"
  },
  "language_info": {
   "codemirror_mode": {
    "name": "ipython",
    "version": 3
   },
   "file_extension": ".py",
   "mimetype": "text/x-python",
   "name": "python",
   "nbconvert_exporter": "python",
   "pygments_lexer": "ipython3",
   "version": "3.10.9"
  }
 },
 "nbformat": 4,
 "nbformat_minor": 5
}
