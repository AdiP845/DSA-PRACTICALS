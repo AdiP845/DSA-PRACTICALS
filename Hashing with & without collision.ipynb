{
 "cells": [
  {
   "cell_type": "code",
   "execution_count": 1,
   "id": "83eba893",
   "metadata": {},
   "outputs": [],
   "source": [
    "class Hash_table():\n",
    "  def __init__(self):\n",
    "    self.capacity = 10\n",
    "    self.aval = [[]for i in range (self.capacity)]\n",
    "    self.akey = [[] for i in range (self.capacity)]\n",
    "\n",
    "\n",
    "  def hash_div(self,key):\n",
    "    sum = 0\n",
    "    for i in key:\n",
    "      sum += ord(i)\n",
    "    return sum % self.capacity\n",
    "\n",
    "\n",
    "  def add(self, key , value):\n",
    "    i = self.hash_div(key)\n",
    "    if self.akey[i] == []:\n",
    "      self.aval[i] = value\n",
    "      self.akey[i] = key\n",
    "    else:\n",
    "      c = self.capacity\n",
    "      for j in range(c):\n",
    "        i = (i+1)%c\n",
    "        if self.akey[i] == []:\n",
    "          self.aval[i] = value\n",
    "          self.akey[i] = key\n",
    "\n",
    "          return\n",
    "      print(\"Hash table full\")\n",
    "\n",
    "\n",
    "  def getvalue(self , key):\n",
    "    i = self.hash_div(key)\n",
    "    if self.akey[i] == key:\n",
    "      return(self.aval[i])\n",
    "    else:\n",
    "      c = self.capacity\n",
    "      for j in range (c):\n",
    "        i = (i+1)%c\n",
    "        if self.akey[i] == key:\n",
    "            return(self.aval)\n",
    "    print(\"value not found\")\n",
    "    return([])\n",
    "\n",
    "\n",
    "\n",
    "  def delete(self , key):\n",
    "      i = self.hash_div(key)\n",
    "      if self.akey[i] == key:\n",
    "        self.aval[i] = []\n",
    "        self.akey[i] = []\n",
    "      else:\n",
    "       c = self.capacity\n",
    "       for j in range(c):\n",
    "         i = (i+1)%c\n",
    "         if self.akey[i] == key:\n",
    "           self.aval[i] = []\n",
    "           self.akey[i] = []\n",
    "\n",
    "           return\n",
    "      print(\"Value not in hash table\")\n"
   ]
  },
  {
   "cell_type": "code",
   "execution_count": 3,
   "id": "2608b9b0",
   "metadata": {},
   "outputs": [
    {
     "name": "stdout",
     "output_type": "stream",
     "text": [
      "[[], [], [], [], 'Aditya', [], 'mot', 'Nikhil', 'Ramesh', 'Kaustubh']\n",
      "[[], [], [], [], 1, [], 3, 4, 2, 12]\n",
      "value not found\n",
      "[]\n",
      "--------------------\n",
      "value not found\n",
      "[]\n",
      "Value not in hash table\n",
      "[[], [], [], [], 'Aditya', [], 'mot', 'Nikhil', 'Ramesh', 'Kaustubh']\n",
      "[[], [], [], [], 1, [], 3, 4, 2, 12]\n"
     ]
    }
   ],
   "source": [
    "t = Hash_table()\n",
    "t.add(\"Aditya\", 1)\n",
    "t.add(\"Ramesh\", 2)\n",
    "t.add(\"mot\", 3)\n",
    "t.add(\"Nikhil\", 4)\n",
    "t.add(\"Kaustubh\", 12)\n",
    "print(t.akey)\n",
    "print(t.aval)\n",
    "print(t.getvalue(\"Tom\"))\n",
    "print('--------------------')\n",
    "print(t.getvalue(\"mTo\"))\n",
    "t.delete(\"mTo\")\n",
    "print(t.akey)\n",
    "print(t.aval)\n"
   ]
  },
  {
   "cell_type": "code",
   "execution_count": null,
   "id": "5f563ab4",
   "metadata": {},
   "outputs": [],
   "source": []
  }
 ],
 "metadata": {
  "kernelspec": {
   "display_name": "Python 3 (ipykernel)",
   "language": "python",
   "name": "python3"
  },
  "language_info": {
   "codemirror_mode": {
    "name": "ipython",
    "version": 3
   },
   "file_extension": ".py",
   "mimetype": "text/x-python",
   "name": "python",
   "nbconvert_exporter": "python",
   "pygments_lexer": "ipython3",
   "version": "3.10.9"
  }
 },
 "nbformat": 4,
 "nbformat_minor": 5
}
