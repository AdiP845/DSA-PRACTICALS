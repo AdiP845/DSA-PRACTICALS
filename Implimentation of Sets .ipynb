{
 "cells": [
  {
   "cell_type": "code",
   "execution_count": 1,
   "id": "d9dbd0f1",
   "metadata": {},
   "outputs": [
    {
     "name": "stdout",
     "output_type": "stream",
     "text": [
      "Enter the total number of element's in the set1 : 3\n",
      "Enter the total number of element's in the set2 : 3\n",
      "Enter the ele in the first set : 10\n",
      "Enter the ele in the first set : 20\n",
      "Enter the ele in the first set : 50\n",
      "Enter the ele in the second set : 50\n",
      "Enter the ele in the second set : 60\n",
      "Enter the ele in the second set : 70\n",
      "the set3 and set4 are:\n",
      "{10, 20, 50}\n",
      "{50, 60, 70}\n",
      "adding element 5 in set3:\n",
      "{10, 5, 20, 50}\n",
      "removing element 50 from set3\n",
      "{10, 5, 20}\n",
      "Is element 4 contained is set3 False\n",
      "The size of set3 is :  3\n",
      "The size of set4 is :  3\n",
      "iterator:\n",
      "10\n",
      "5\n",
      "20\n",
      "The Intersection of the two set is :  set()\n",
      "The union of the two set is :  {50, 20, 5, 70, 10, 60}\n",
      "The difference of the two set is :  {10, 20, 5}\n",
      "The symmetric diffrence of the set3 and set4 is :  {50, 20, 5, 70, 10, 60}\n",
      "is set3 subset of set4:\n",
      "False\n"
     ]
    }
   ],
   "source": [
    "set1 = int(input(\"Enter the total number of element's in the set1 : \"))\n",
    "set2 = int(input(\"Enter the total number of element's in the set2 : \"))\n",
    "set3 = []\n",
    "set4 = []\n",
    "for i in range(set1):\n",
    "    set5 = int(input(\"Enter the ele in the first set : \"))\n",
    "    set3.append(set5)\n",
    "for i in range(set2):\n",
    "    set6 = int(input(\"Enter the ele in the second set : \"))\n",
    "    set4.append(set6)\n",
    "set3 = set(set3)\n",
    "set4 = set(set4)\n",
    "print(\"the set3 and set4 are:\")\n",
    "print(set3)\n",
    "print(set4)\n",
    "\n",
    "print(\"adding element 5 in set3:\")\n",
    "set3.add(5)\n",
    "print(set3)\n",
    "\n",
    "print(\"removing element 50 from set3\")\n",
    "set3.remove(50)\n",
    "print(set3)\n",
    "\n",
    "print(\"Is element 4 contained is set3\",4 in set3)\n",
    "\n",
    "print(\"The size of set3 is : \", len(set3))\n",
    "print(\"The size of set4 is : \", len(set4))\n",
    "\n",
    "print(\"iterator:\")\n",
    "obj = iter(set3)\n",
    "print(next(obj))\n",
    "print(next(obj)) \n",
    "print(next(obj))\n",
    "\n",
    "print(\"The Intersection of the two set is : \", set3.intersection(set4))\n",
    "print(\"The union of the two set is : \", set3.union(set4))\n",
    "print(\"The difference of the two set is : \", set3.difference(set4))\n",
    "print(\"The symmetric diffrence of the set3 and set4 is : \",(set3.union(set4)-(set3.intersection(set4))))\n",
    "\n",
    "\n",
    "print(\"is set3 subset of set4:\")\n",
    "print(set3.issubset(set4))\n"
   ]
  },
  {
   "cell_type": "code",
   "execution_count": null,
   "id": "ba66b67a",
   "metadata": {},
   "outputs": [],
   "source": []
  }
 ],
 "metadata": {
  "kernelspec": {
   "display_name": "Python 3 (ipykernel)",
   "language": "python",
   "name": "python3"
  },
  "language_info": {
   "codemirror_mode": {
    "name": "ipython",
    "version": 3
   },
   "file_extension": ".py",
   "mimetype": "text/x-python",
   "name": "python",
   "nbconvert_exporter": "python",
   "pygments_lexer": "ipython3",
   "version": "3.10.9"
  }
 },
 "nbformat": 4,
 "nbformat_minor": 5
}
