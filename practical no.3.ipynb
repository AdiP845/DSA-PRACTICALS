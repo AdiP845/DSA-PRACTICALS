{
 "cells": [
  {
   "cell_type": "code",
   "execution_count": 4,
   "id": "ac5818a3",
   "metadata": {},
   "outputs": [
    {
     "name": "stdout",
     "output_type": "stream",
     "text": [
      "Book\n",
      "  Chapter 1\n",
      "    Section 1.1\n",
      "    Section 1.2\n",
      "      Subsection 1.2.1\n",
      "      Subsection 1.2.2\n",
      "  Chapter 2\n",
      "    Section 2.1\n",
      "    Section 2.2\n",
      "      Subsection 2.2.1\n"
     ]
    }
   ],
   "source": [
    "class Node:\n",
    "    def __init__(self, value):\n",
    "        self.value = value\n",
    "        self.children = []\n",
    "\n",
    "    def add_child(self, child_node):\n",
    "        self.children.append(child_node)\n",
    "\n",
    "    def __repr__(self):\n",
    "        return f'{self.value}'\n",
    "\n",
    "book = Node(\"Book\")\n",
    "chapter1 = Node(\"Chapter 1\")\n",
    "section1_1 = Node(\"Section 1.1\")\n",
    "section1_2 = Node(\"Section 1.2\")\n",
    "subsection1_2_1 = Node(\"Subsection 1.2.1\")\n",
    "subsection1_2_2 = Node(\"Subsection 1.2.2\")\n",
    "chapter2 = Node(\"Chapter 2\")\n",
    "section2_1 = Node(\"Section 2.1\")\n",
    "section2_2 = Node(\"Section 2.2\")\n",
    "subsection2_2_1 = Node(\"Subsection 2.2.1\")\n",
    "\n",
    "book.add_child(chapter1)\n",
    "book.add_child(chapter2)\n",
    "\n",
    "chapter1.add_child(section1_1)\n",
    "chapter1.add_child(section1_2)\n",
    "\n",
    "section1_2.add_child(subsection1_2_1)\n",
    "section1_2.add_child(subsection1_2_2)\n",
    "\n",
    "chapter2.add_child(section2_1)\n",
    "chapter2.add_child(section2_2)\n",
    "\n",
    "section2_2.add_child(subsection2_2_1)\n",
    "\n",
    "def print_tree(node, level=0):\n",
    "    print(\"  \"*level + str(node))\n",
    "    for child_node in node.children:\n",
    "        print_tree(child_node, level+1)\n",
    "\n",
    "print_tree(book)"
   ]
  },
  {
   "cell_type": "code",
   "execution_count": null,
   "id": "fa0cba21",
   "metadata": {},
   "outputs": [],
   "source": []
  }
 ],
 "metadata": {
  "kernelspec": {
   "display_name": "Python 3 (ipykernel)",
   "language": "python",
   "name": "python3"
  },
  "language_info": {
   "codemirror_mode": {
    "name": "ipython",
    "version": 3
   },
   "file_extension": ".py",
   "mimetype": "text/x-python",
   "name": "python",
   "nbconvert_exporter": "python",
   "pygments_lexer": "ipython3",
   "version": "3.10.9"
  }
 },
 "nbformat": 4,
 "nbformat_minor": 5
}
